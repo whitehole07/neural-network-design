{
 "cells": [
  {
   "cell_type": "markdown",
   "metadata": {},
   "source": [
    "# Exercise 2 - (E4.8)\n",
    "\n",
    "Let us import the required modules:"
   ]
  },
  {
   "cell_type": "code",
   "execution_count": 1,
   "metadata": {
    "collapsed": true,
    "ExecuteTime": {
     "end_time": "2023-04-30T16:44:26.492467419Z",
     "start_time": "2023-04-30T16:44:26.024741863Z"
    }
   },
   "outputs": [],
   "source": [
    "import numpy as np\n",
    "\n",
    "from matplotlib import pyplot as plt\n",
    "\n",
    "from utilities.activation_functions import hardlim"
   ]
  },
  {
   "cell_type": "markdown",
   "metadata": {},
   "source": [
    "And save the problem variables:"
   ]
  },
  {
   "cell_type": "code",
   "execution_count": 2,
   "metadata": {
    "ExecuteTime": {
     "end_time": "2023-04-30T16:44:26.511245821Z",
     "start_time": "2023-04-30T16:44:26.500053191Z"
    }
   },
   "outputs": [
    {
     "data": {
      "text/plain": "(3, 2)"
     },
     "execution_count": 2,
     "metadata": {},
     "output_type": "execute_result"
    }
   ],
   "source": [
    "# Problem data\n",
    "x_data = np.array([[-1, -1], [0, 0], [-1, 1]])\n",
    "y_data = np.array([0, 0, 1]).reshape(-1, 1)\n",
    "\n",
    "# Initial weight matrix and bias\n",
    "W = np.array([1, 0])\n",
    "b = 0.5\n",
    "\n",
    "x_data.shape"
   ]
  },
  {
   "cell_type": "markdown",
   "metadata": {},
   "source": [
    "## Point 1\n",
    "\n",
    "We can now plot the decision boundary in a similar manner to the process described in exercise 1:"
   ]
  },
  {
   "cell_type": "code",
   "execution_count": 3,
   "metadata": {
    "ExecuteTime": {
     "end_time": "2023-04-30T16:44:26.836782098Z",
     "start_time": "2023-04-30T16:44:26.510965181Z"
    }
   },
   "outputs": [
    {
     "data": {
      "text/plain": "<Figure size 640x480 with 1 Axes>",
      "image/png": "[encoded data removed]"
     },
     "metadata": {},
     "output_type": "display_data"
    }
   ],
   "source": [
    "# Input space plot for each neuron\n",
    "_, ax = plt.subplots()\n",
    "ax.grid(True)\n",
    "\n",
    "# Decision boundary (w2*p2 = -w1*p1 - b1)\n",
    "p1 = -b/W[0]\n",
    "ax.axvline(x=p1)\n",
    "\n",
    "# Scatter points\n",
    "ax.scatter(*list(zip(*x_data[:2])), label=\"$t = 0$\", zorder=5)\n",
    "ax.scatter(*list(zip(*x_data[2:])), label=\"$t = 1$\", zorder=5)\n",
    "\n",
    "# Weight vector\n",
    "ax.quiver(p1, -b, W[0], W[1], angles='xy', scale_units='xy', scale=1, zorder=10, label=\"Weight Vector\")\n",
    "\n",
    "# Plot options\n",
    "ax.set_xlabel(r\"$p_1$\")\n",
    "ax.set_ylabel(r\"$p_2$\")\n",
    "\n",
    "# Origin axis\n",
    "ax.axhline(y=0, lw=2, color='k', alpha=0.5, zorder=0)\n",
    "ax.axvline(x=0, lw=2, color='k', alpha=0.5, zorder=0)\n",
    "\n",
    "# Set the limits of the plot\n",
    "ax.set_xlim([-3, 3])\n",
    "ax.set_ylim([-3, 3])\n",
    "\n",
    "# More options\n",
    "ax.legend()\n",
    "plt.title(\"Decision Boundary\")\n",
    "plt.tight_layout()\n",
    "plt.show()"
   ]
  },
  {
   "cell_type": "markdown",
   "metadata": {},
   "source": [
    "As can be seen, **only one sample is correctly classified**:\n",
    "- The sample with $t=0$ on the _left_ of the boundary is **correctly classified**, the point sits in the area of the input space where the output is 0\n",
    "\n",
    "- The sample with $t=0$ on the _right_ of the boundary is **misclassified**, the point is located in the area of the input space where the output is 1 (weight vector pointing towards it)\n",
    "\n",
    "- The sample with $t=1$ is **misclassified**, the point sits in the area of the input space where the output is 0 (weight vector pointing the opposite direction)"
   ]
  },
  {
   "cell_type": "markdown",
   "metadata": {},
   "source": [
    "## Point 2\n",
    "\n",
    "To perform iterations of the perceptron learning rule we will need a way to compute the output of the network, the following function implements the network itself, and can simulate its output by taking network input $p$, weights $W$, and bias $b$ as inputs:"
   ]
  },
  {
   "cell_type": "code",
   "execution_count": 4,
   "metadata": {
    "ExecuteTime": {
     "end_time": "2023-04-30T16:44:26.846210794Z",
     "start_time": "2023-04-30T16:44:26.843071034Z"
    }
   },
   "outputs": [],
   "source": [
    "# Layer output function\n",
    "def predict(p: np.ndarray, W_fun: np.ndarray, B_fun: np.ndarray):\n",
    "    return hardlim(np.dot(W_fun, p.reshape(-1, 1)) + B_fun)"
   ]
  },
  {
   "cell_type": "markdown",
   "metadata": {},
   "source": [
    "The code for the perceptron learning rule is recovered from that of exercise 1. Performing only one iteration would lead to the incorrect classification of one of the samples with $t=0$, thus in the following code cell we perform 2 iterations, so that the final model will be able to correctly classify each sample:"
   ]
  },
  {
   "cell_type": "code",
   "execution_count": 5,
   "metadata": {
    "ExecuteTime": {
     "end_time": "2023-04-30T16:44:26.922740242Z",
     "start_time": "2023-04-30T16:44:26.888707273Z"
    }
   },
   "outputs": [
    {
     "name": "stdout",
     "output_type": "stream",
     "text": [
      "1 - Misclassification error: 0 Predicted:  [0] Real:  [0]\n",
      "2 - Misclassification error: -1 Predicted:  [1] Real:  [0]\n",
      "3 - Misclassification error: 1 Predicted:  [0] Real:  [1]\n",
      "1 - Misclassification error: 0 Predicted:  [0] Real:  [0]\n",
      "2 - Misclassification error: -1 Predicted:  [1] Real:  [0]\n",
      "3 - Misclassification error: 0 Predicted:  [1] Real:  [1]\n",
      "\n",
      "Updated W:\n",
      " [0 1] \n",
      "\n",
      "Updated B:\n",
      " -0.5\n"
     ]
    }
   ],
   "source": [
    "# Iterate the training procedure over training data\n",
    "alpha = 1       # Learning rate\n",
    "iterations = 2  # Number of training iterations\n",
    "for _ in range(iterations):\n",
    "    for i in range(len(x_data)):\n",
    "        # Predict\n",
    "        y_pred_step = predict(x_data[i, :], W, b)\n",
    "\n",
    "        # Compute errors (target - prediction)\n",
    "        error_step: np.ndarray = np.squeeze(y_data[i] - y_pred_step)\n",
    "        print(i+1, \"- Misclassification error:\", error_step, \"Predicted: \", y_pred_step, \"Real: \", y_data[i])\n",
    "\n",
    "        # Update weights and biases\n",
    "        W += alpha*(error_step*x_data[i, :])\n",
    "        b += alpha*error_step\n",
    "\n",
    "print(\"\\nUpdated W:\\n\", W, \"\\n\\nUpdated B:\\n\", b)"
   ]
  },
  {
   "cell_type": "markdown",
   "metadata": {},
   "source": [
    "## Point 3\n",
    "\n",
    "Recalling the code to plot the decision boundaries from exercise 1:"
   ]
  },
  {
   "cell_type": "code",
   "execution_count": 6,
   "metadata": {
    "ExecuteTime": {
     "end_time": "2023-04-30T16:44:27.195788670Z",
     "start_time": "2023-04-30T16:44:26.889133868Z"
    }
   },
   "outputs": [
    {
     "data": {
      "text/plain": "<Figure size 640x480 with 1 Axes>",
      "image/png": "[encoded data removed]"
     },
     "metadata": {},
     "output_type": "display_data"
    }
   ],
   "source": [
    "# Input space plot for each neuron\n",
    "_, ax = plt.subplots()\n",
    "ax.grid(True)\n",
    "\n",
    "# Decision boundary (w2*p2 = -w1*p1 - b1)\n",
    "p2 = (1/W[1]) * (-W[0]*p1 - b)\n",
    "ax.axhline(p2, label=\"Boundary\", zorder=5)\n",
    "\n",
    "# Scatter points\n",
    "ax.scatter(*list(zip(*x_data[:2])), label=\"$t = 0$\", zorder=5)\n",
    "ax.scatter(*list(zip(*x_data[2:])), label=\"$t = 1$\", zorder=5)\n",
    "\n",
    "# Weight vector\n",
    "ax.quiver(p1, -b, W[0], W[1], angles='xy', scale_units='xy', scale=1, zorder=10, label=\"Weight Vector\")\n",
    "\n",
    "# Plot options\n",
    "ax.set_xlabel(r\"$p_1$\")\n",
    "ax.set_ylabel(r\"$p_2$\")\n",
    "\n",
    "# Origin axis\n",
    "ax.axhline(y=0, lw=2, color='k', alpha=0.5, zorder=0)\n",
    "ax.axvline(x=0, lw=2, color='k', alpha=0.5, zorder=0)\n",
    "\n",
    "# Set the limits of the plot\n",
    "ax.set_xlim([-3, 3])\n",
    "ax.set_ylim([-3, 3])\n",
    "\n",
    "# More options\n",
    "ax.legend()\n",
    "plt.title(\"Decision Boundary\")\n",
    "plt.tight_layout()\n",
    "plt.show()"
   ]
  },
  {
   "cell_type": "markdown",
   "source": [
    "All the sample are correctly classified."
   ],
   "metadata": {
    "collapsed": false
   }
  },
  {
   "cell_type": "markdown",
   "source": [
    "## Point 4\n",
    "\n",
    "If given enough iterations, the perceptron rule will learn to correctly classify patterns in a training set regardless of the initial weight used, and in a finite number of steps. However, the perceptron learning algorithm is a **linear classifier**, this means, its ability to converge depends on whether the data is separable by a hyperplane.\n",
    "\n",
    "If the data is linearly separable, **the perceptron will always converge**. But if the data is not linearly separable (e.g. XOR gate), the perceptron will not converge."
   ],
   "metadata": {
    "collapsed": false
   }
  }
 ],
 "metadata": {
  "kernelspec": {
   "display_name": "Python 3 (ipykernel)",
   "language": "python",
   "name": "python3"
  },
  "language_info": {
   "codemirror_mode": {
    "name": "ipython",
    "version": 3
   },
   "file_extension": ".py",
   "mimetype": "text/x-python",
   "name": "python",
   "nbconvert_exporter": "python",
   "pygments_lexer": "ipython3",
   "version": "3.8.10"
  }
 },
 "nbformat": 4,
 "nbformat_minor": 1
}
