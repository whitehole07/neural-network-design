{
 "cells": [
  {
   "cell_type": "markdown",
   "metadata": {},
   "source": [
    "# Exercise 4 - (E7.3)\n",
    "\n",
    "The required modules:"
   ]
  },
  {
   "cell_type": "code",
   "execution_count": null,
   "metadata": {
    "ExecuteTime": {
     "start_time": "2023-04-30T18:38:28.158969512Z"
    },
    "collapsed": true,
    "is_executing": true
   },
   "outputs": [],
   "source": [
    "import numpy as np\n",
    "\n",
    "from utilities.activation_functions import hardlims"
   ]
  },
  {
   "cell_type": "markdown",
   "metadata": {},
   "source": [
    "Let's define the problem variables. Similarly to what we've done in Exercise 3, we convert the squares into vectors by scanning them column by column, white squares are represented as $-1$, blue ones as $1$. In this case we will also need to define the target variables $t_1$ and $t_2$:"
   ]
  },
  {
   "cell_type": "code",
   "execution_count": null,
   "metadata": {
    "is_executing": true
   },
   "outputs": [],
   "source": [
    "# First input\n",
    "p1 = np.array([1, -1, -1, 1, 1, -1]).reshape(-1, 1)\n",
    "t1 = -1\n",
    "\n",
    "# Second input\n",
    "p2 = np.array([1, 1, -1, 1, -1, 1]).reshape(-1, 1)\n",
    "t2 = 1"
   ]
  },
  {
   "cell_type": "markdown",
   "metadata": {},
   "source": [
    "The Hebb rule can be applied to find the weight matrix, considering the targets this be written as:\n",
    "\n",
    "$$\\begin{equation}\n",
    "\\textbf{W} = t_1\\textbf{p}_1^T + t_2\\textbf{p}_2^T = \\textbf{T}\\textbf{P}^T\n",
    "\\end{equation}$$"
   ]
  },
  {
   "cell_type": "code",
   "execution_count": 20,
   "metadata": {
    "ExecuteTime": {
     "end_time": "2023-04-30T18:38:28.725371083Z",
     "start_time": "2023-04-30T18:38:28.724610705Z"
    }
   },
   "outputs": [
    {
     "name": "stdout",
     "output_type": "stream",
     "text": [
      "Hebb W matrix:\n",
      " [[ 0  2  0  0 -2  2]]\n"
     ]
    }
   ],
   "source": [
    "# Weight matrix\n",
    "W = t1*p1.transpose() + t2*p2.transpose()\n",
    "print(\"Hebb W matrix:\\n\", W)"
   ]
  },
  {
   "cell_type": "markdown",
   "metadata": {},
   "source": [
    "We cen now define the prediction function:"
   ]
  },
  {
   "cell_type": "code",
   "execution_count": 21,
   "metadata": {
    "ExecuteTime": {
     "end_time": "2023-04-30T18:38:28.725825453Z",
     "start_time": "2023-04-30T18:38:28.725181868Z"
    }
   },
   "outputs": [],
   "source": [
    "# Layer output function\n",
    "def predict(p: np.ndarray, W_fun: np.ndarray):\n",
    "    return hardlims(np.dot(W_fun, p.reshape(-1, 1)))"
   ]
  },
  {
   "cell_type": "markdown",
   "metadata": {},
   "source": [
    "To show the functioning of the so-found network through the use of the prediction function, we run the following simulations using the inputs:\n",
    "\n",
    "- $p = p_1$\n",
    "- $p = p_2$\n",
    "- $p = p_1 + \\eta $\n",
    "- $p = p_2 + \\eta $\n",
    "\n",
    "where $p$ is the network input, and $\\eta$ is a random noise."
   ]
  },
  {
   "cell_type": "code",
   "execution_count": 22,
   "metadata": {
    "ExecuteTime": {
     "end_time": "2023-04-30T18:38:28.726190746Z",
     "start_time": "2023-04-30T18:38:28.725675903Z"
    }
   },
   "outputs": [
    {
     "name": "stdout",
     "output_type": "stream",
     "text": [
      "Prediction for input p1:        p1\n",
      "Prediction for input p2:        p2\n",
      "Prediction for input noisy p1:  p1\n",
      "Prediction for input noisy p2:  p2\n"
     ]
    }
   ],
   "source": [
    "# Predict the actual same inputs\n",
    "y_pred_p1 = np.squeeze(predict(p1, W))\n",
    "y_pred_p2 = np.squeeze(predict(p2, W))\n",
    "\n",
    "# Predict with noisy input\n",
    "p1_noisy = np.array([1, -1, 1, 1, 1, 1]).reshape(-1, 1)\n",
    "p2_noisy = np.array([-1, 1, -1, 1, 1, 1]).reshape(-1, 1)\n",
    "\n",
    "y_pred_p1_noisy = np.squeeze(predict(p1_noisy, W))\n",
    "y_pred_p2_noisy = np.squeeze(predict(p2_noisy, W))\n",
    "\n",
    "# Define map from number to string\n",
    "def map_func(output: int) -> str:\n",
    "    return \"p1\" if output == -1 else \"p2\"\n",
    "\n",
    "print(\"Prediction for input p1:       \", map_func(y_pred_p1))\n",
    "print(\"Prediction for input p2:       \", map_func(y_pred_p2))\n",
    "print(\"Prediction for input noisy p1: \", map_func(y_pred_p1_noisy))\n",
    "print(\"Prediction for input noisy p2: \", map_func(y_pred_p2_noisy))"
   ]
  },
  {
   "cell_type": "markdown",
   "metadata": {},
   "source": [
    "The neural network is capable of producing accurate outputs for every input, including those with noise, as long as the lowest Hamming distance corresponds to its respective noiseless input."
   ]
  }
 ],
 "metadata": {
  "kernelspec": {
   "display_name": "Python 3 (ipykernel)",
   "language": "python",
   "name": "python3"
  },
  "language_info": {
   "codemirror_mode": {
    "name": "ipython",
    "version": 3
   },
   "file_extension": ".py",
   "mimetype": "text/x-python",
   "name": "python",
   "nbconvert_exporter": "python",
   "pygments_lexer": "ipython3",
   "version": "3.8.10"
  }
 },
 "nbformat": 4,
 "nbformat_minor": 1
}
