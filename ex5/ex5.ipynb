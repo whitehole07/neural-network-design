{
 "cells": [
  {
   "cell_type": "markdown",
   "metadata": {},
   "source": [
    "# Exercise 5 - (E10.1)\n",
    "\n",
    "The required modules:"
   ]
  },
  {
   "cell_type": "code",
   "execution_count": 6,
   "metadata": {
    "ExecuteTime": {
     "end_time": "2023-04-30T19:07:38.565745580Z",
     "start_time": "2023-04-30T19:07:38.539739766Z"
    }
   },
   "outputs": [],
   "source": [
    "import numpy as np"
   ]
  },
  {
   "cell_type": "markdown",
   "metadata": {},
   "source": [
    "Let's store the problem data into variables:"
   ]
  },
  {
   "cell_type": "code",
   "execution_count": 7,
   "metadata": {
    "ExecuteTime": {
     "end_time": "2023-04-30T19:07:38.598105723Z",
     "start_time": "2023-04-30T19:07:38.552390743Z"
    }
   },
   "outputs": [],
   "source": [
    "# Weight matrix\n",
    "W = np.array([[1, -4, 2]])\n",
    "\n",
    "# Inputs\n",
    "yk = np.array([1, 1, 2])"
   ]
  },
  {
   "cell_type": "markdown",
   "metadata": {},
   "source": [
    "To solve the problem we need a way to produce the inputs at each time step $k$, for this reason a class simulating the behavior of a tapped delay line was implemented in the following code cell:"
   ]
  },
  {
   "cell_type": "code",
   "execution_count": 8,
   "metadata": {
    "ExecuteTime": {
     "end_time": "2023-04-30T19:07:38.598352542Z",
     "start_time": "2023-04-30T19:07:38.596573155Z"
    }
   },
   "outputs": [],
   "source": [
    "class TappedDelayLine(object):\n",
    "    def __init__(self, y: np.ndarray, *, blocks: int):\n",
    "        self.y = y                     # Input array starting from k=0\n",
    "        self.length = blocks           # Length of the line\n",
    "        self.num_outputs = blocks + 1  # Number of outputs\n",
    "        self.k = -1                    # Initial time step\n",
    "\n",
    "        # Initialize output array\n",
    "        self.out_array = np.zeros((self.num_outputs, 1))\n",
    "\n",
    "    def reset(self):\n",
    "        # Reset timestep\n",
    "        self.k = -1\n",
    "\n",
    "    def out(self, k: int = None):\n",
    "        # Initialize output array\n",
    "        self.out_array = np.zeros((self.num_outputs, 1))\n",
    "\n",
    "        # Make output function\n",
    "        def make_output(kf: int):\n",
    "            # Add element\n",
    "            if kf < len(self.y):\n",
    "                self.out_array = np.vstack(([[self.y[kf]]], self.out_array))\n",
    "            else:\n",
    "                self.out_array = np.vstack(([[0]], self.out_array))\n",
    "\n",
    "            # Remove last element\n",
    "            self.out_array = np.delete(self.out_array, obj=-1, axis=0)\n",
    "\n",
    "        if k is None:  # If k is not overwritten, use the one in the class\n",
    "            self.k += 1           # Increment timestep\n",
    "            make_output(self.k)   # Update output\n",
    "        else:  # if k is overwritten\n",
    "            for i in range(k+1):  # Iterate to recreate k-th timestep\n",
    "                make_output(i)    # Update output\n",
    "\n",
    "        return self.out_array"
   ]
  },
  {
   "cell_type": "markdown",
   "metadata": {},
   "source": [
    "An instance of this class is then created. Its behavior is shown in the output of the following code cell. To get the output of the tapped delay line at $k$, we simply call the ***tl.out(k)*** method, the output of the latter is the array of 3 inputs for the chosen time step:"
   ]
  },
  {
   "cell_type": "code",
   "execution_count": 9,
   "metadata": {
    "ExecuteTime": {
     "end_time": "2023-04-30T19:07:38.598692289Z",
     "start_time": "2023-04-30T19:07:38.596717831Z"
    }
   },
   "outputs": [
    {
     "name": "stdout",
     "output_type": "stream",
     "text": [
      "k = 0 -> out = [1. 0. 0.]\n",
      "k = 1 -> out = [1. 1. 0.]\n",
      "k = 2 -> out = [2. 1. 1.]\n",
      "k = 3 -> out = [0. 2. 1.]\n",
      "k = 4 -> out = [0. 0. 2.]\n",
      "k = 5 -> out = [0. 0. 0.]\n"
     ]
    }
   ],
   "source": [
    "# Create an instance for our problem\n",
    "tl = TappedDelayLine(yk, blocks=2)\n",
    "\n",
    "# Simulation of output from k=0 through k=5\n",
    "for k_iter in range(6):\n",
    "    print(f\"k = {k_iter} -> out = {tl.out(k_iter).squeeze()}\")"
   ]
  },
  {
   "cell_type": "markdown",
   "metadata": {},
   "source": [
    "The output of the network can now be simulated, in this case we will consider $k$ from 0 to 9:"
   ]
  },
  {
   "cell_type": "code",
   "execution_count": 10,
   "metadata": {
    "ExecuteTime": {
     "end_time": "2023-04-30T19:07:38.598955693Z",
     "start_time": "2023-04-30T19:07:38.596813095Z"
    }
   },
   "outputs": [
    {
     "name": "stdout",
     "output_type": "stream",
     "text": [
      "Output: a(k) = [ 1. -3.  0. -6.  4.  0.] (k from 0 to 5)\n"
     ]
    }
   ],
   "source": [
    "# Initialize a\n",
    "a = np.array([[]])\n",
    "\n",
    "# Loop\n",
    "iters = 6\n",
    "for k in range(iters):\n",
    "    # Get timestep p\n",
    "    p = tl.out(k)\n",
    "\n",
    "    # Simulate output\n",
    "    ak = np.dot(W, p)  # Retrieve k-th output\n",
    "\n",
    "    # Save in a array\n",
    "    if not a.size:\n",
    "        a = ak\n",
    "    else:\n",
    "        a = np.vstack((a, ak))\n",
    "\n",
    "# Print results\n",
    "print(\"Output: a(k) =\", a.squeeze(), f\"(k from 0 to {iters-1})\")"
   ]
  },
  {
   "cell_type": "markdown",
   "metadata": {},
   "source": [
    "Which is the response of the filter for each $k$, when the input is not zero. The output will be simply zero when all the inputs are zero as well."
   ]
  }
 ],
 "metadata": {
  "kernelspec": {
   "display_name": "Python 3 (ipykernel)",
   "language": "python",
   "name": "python3"
  },
  "language_info": {
   "codemirror_mode": {
    "name": "ipython",
    "version": 3
   },
   "file_extension": ".py",
   "mimetype": "text/x-python",
   "name": "python",
   "nbconvert_exporter": "python",
   "pygments_lexer": "ipython3",
   "version": "3.8.10"
  }
 },
 "nbformat": 4,
 "nbformat_minor": 1
}
